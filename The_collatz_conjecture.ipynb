{
  "nbformat": 4,
  "nbformat_minor": 0,
  "metadata": {
    "colab": {
      "provenance": [],
      "collapsed_sections": []
    },
    "kernelspec": {
      "name": "python3",
      "display_name": "Python 3"
    },
    "language_info": {
      "name": "python"
    }
  },
  "cells": [
    {
      "cell_type": "code",
      "source": [
        "!pip install matplotlib\n",
        "!pip install numpy"
      ],
      "metadata": {
        "colab": {
          "base_uri": "https://localhost:8080/"
        },
        "id": "sudZbmeJHhpI",
        "outputId": "17d9edbf-802e-4853-96aa-4c21749ae2dd"
      },
      "execution_count": 22,
      "outputs": [
        {
          "output_type": "stream",
          "name": "stdout",
          "text": [
            "Looking in indexes: https://pypi.org/simple, https://us-python.pkg.dev/colab-wheels/public/simple/\n",
            "Requirement already satisfied: matplotlib in /usr/local/lib/python3.7/dist-packages (3.2.2)\n",
            "Requirement already satisfied: numpy>=1.11 in /usr/local/lib/python3.7/dist-packages (from matplotlib) (1.21.6)\n",
            "Requirement already satisfied: python-dateutil>=2.1 in /usr/local/lib/python3.7/dist-packages (from matplotlib) (2.8.2)\n",
            "Requirement already satisfied: kiwisolver>=1.0.1 in /usr/local/lib/python3.7/dist-packages (from matplotlib) (1.4.4)\n",
            "Requirement already satisfied: cycler>=0.10 in /usr/local/lib/python3.7/dist-packages (from matplotlib) (0.11.0)\n",
            "Requirement already satisfied: pyparsing!=2.0.4,!=2.1.2,!=2.1.6,>=2.0.1 in /usr/local/lib/python3.7/dist-packages (from matplotlib) (3.0.9)\n",
            "Requirement already satisfied: typing-extensions in /usr/local/lib/python3.7/dist-packages (from kiwisolver>=1.0.1->matplotlib) (4.1.1)\n",
            "Requirement already satisfied: six>=1.5 in /usr/local/lib/python3.7/dist-packages (from python-dateutil>=2.1->matplotlib) (1.15.0)\n",
            "Looking in indexes: https://pypi.org/simple, https://us-python.pkg.dev/colab-wheels/public/simple/\n",
            "Requirement already satisfied: numpy in /usr/local/lib/python3.7/dist-packages (1.21.6)\n"
          ]
        }
      ]
    },
    {
      "cell_type": "markdown",
      "source": [
        "The Collatz Conjecture.\n",
        "The rules are as follows.\n",
        "\n",
        "If the number is even, divide it by two.\n",
        "If the number is odd, multiply it by three and add one.\n",
        "\n",
        "For whatever reason, the number will always end up at one.\n"
      ],
      "metadata": {
        "id": "9MKpJ4onDJ-j"
      }
    },
    {
      "cell_type": "code",
      "execution_count": 41,
      "metadata": {
        "colab": {
          "base_uri": "https://localhost:8080/"
        },
        "id": "c0fCiFb6-gQT",
        "outputId": "1f3917aa-4289-450a-aed4-12520591f0a9"
      },
      "outputs": [
        {
          "output_type": "stream",
          "name": "stdout",
          "text": [
            "Enter a number to test! 2341\n",
            "2341, 7024, 3512, 1756, 878, 439, 1318, 659, 1978, 989, 2968, 1484, 742, 371, 1114, 557, 1672, 836, 418, 209, 628, 314, 157, 472, 236, 118, 59, 178, 89, 268, 134, 67, 202, 101, 304, 152, 76, 38, 19, 58, 29, 88, 44, 22, 11, 34, 17, 52, 26, 13, 40, 20, 10, 5, 16, 8, 4, 2, 1\n",
            "finished in 59\n"
          ]
        }
      ],
      "source": [
        "#input number\n",
        "n = input('Enter a number to test! ')\n",
        "#convert n to integer\n",
        "n=int(n)\n",
        "# in=420\n",
        "steps=1\n",
        "# We use modulo 2 to figure out if the number is even.\n",
        "while n!=1:\n",
        "  steps=steps+1\n",
        "  print(int(n), end=\", \")\n",
        "  if (n % 2)==1:\n",
        "    n=n*3+1\n",
        "  else:\n",
        "    n=n/2\n",
        "print(\"1\", end='\\n')\n",
        "print(\"finished in\", steps)"
      ]
    },
    {
      "cell_type": "code",
      "source": [
        "\n",
        "def collatz(n):\n",
        "  outy=[]\n",
        "  outx=[0]\n",
        "  steps=0\n",
        "  # We use modulo 2 to figure out if the number is even.\n",
        "  while n!=1:\n",
        "    steps=steps+1\n",
        "    outy.append(int(n))\n",
        "    outx.append(steps)\n",
        "    #print(int(n), end=\", \")\n",
        "    if (n % 2)==1:\n",
        "      n=n*3+1\n",
        "    else:\n",
        "      n=n/2\n",
        "  outy.append(1)\n",
        "  #print(\"1\", end='\\n')\n",
        "  return outx,outy\n",
        "outx, outy=collatz(33)\n",
        "print(outx)\n",
        "print(outy)\n"
      ],
      "metadata": {
        "colab": {
          "base_uri": "https://localhost:8080/"
        },
        "id": "iknbXGenKXdR",
        "outputId": "7af714e6-047e-44aa-fb4b-eb6968ca23bd"
      },
      "execution_count": 156,
      "outputs": [
        {
          "output_type": "stream",
          "name": "stdout",
          "text": [
            "[0, 1, 2, 3, 4, 5, 6, 7, 8, 9, 10, 11, 12, 13, 14, 15, 16, 17, 18, 19, 20, 21, 22, 23, 24, 25, 26]\n",
            "[33, 100, 50, 25, 76, 38, 19, 58, 29, 88, 44, 22, 11, 34, 17, 52, 26, 13, 40, 20, 10, 5, 16, 8, 4, 2, 1]\n"
          ]
        }
      ]
    },
    {
      "cell_type": "markdown",
      "source": [],
      "metadata": {
        "id": "3uPC-70FOorY"
      }
    },
    {
      "cell_type": "code",
      "source": [
        "print(outx)"
      ],
      "metadata": {
        "colab": {
          "base_uri": "https://localhost:8080/"
        },
        "id": "sKpU0SyGNc5b",
        "outputId": "d2b0bb15-9841-44c0-c3bb-718027193a0a"
      },
      "execution_count": 85,
      "outputs": [
        {
          "output_type": "stream",
          "name": "stdout",
          "text": [
            "[]\n"
          ]
        }
      ]
    },
    {
      "cell_type": "markdown",
      "source": [
        "Algorithms like this are a really great way to start playing with data.\n",
        "\n",
        "Here are some examples with matplotlib using the collatz."
      ],
      "metadata": {
        "id": "KT6-vJulGUEN"
      }
    },
    {
      "cell_type": "code",
      "source": [
        "import matplotlib.pyplot as plt\n",
        "import numpy as np\n",
        "\n",
        "outx, outy=collatz(41)\n",
        "# the x and y coordinates, where x is steps and y is current value.\n",
        "x = outx\n",
        "y = outy\n",
        "# plot\n",
        "fig, ax = plt.subplots()\n",
        "\n",
        "plt.plot(outx,outy)\n",
        "plt.xlabel(\"Step\")\n",
        "plt.ylabel(\"Value\")\n",
        "\n",
        "plt.show()"
      ],
      "metadata": {
        "colab": {
          "base_uri": "https://localhost:8080/",
          "height": 279
        },
        "id": "KgV8mD_SGwnG",
        "outputId": "692c2a06-2343-48d7-c6d6-dfa8a57c6ddb"
      },
      "execution_count": 172,
      "outputs": [
        {
          "output_type": "display_data",
          "data": {
            "text/plain": [
              "<Figure size 432x288 with 1 Axes>"
            ],
            "image/png": "[encoded data removed]"
          },
          "metadata": {
            "needs_background": "light"
          }
        }
      ]
    },
    {
      "cell_type": "code",
      "source": [
        "from matplotlib import pyplot as plt\n",
        "plt.plot(np.arange(0, len(outx)),outx)\n",
        "plt.show()\n",
        "ax.set(xlim=(0, len(outx)), xticks=np.arange(1, 15),\n",
        "       ylim=(0, 44), yticks=np.arange(1, 15))\n",
        "\n"
      ],
      "metadata": {
        "colab": {
          "base_uri": "https://localhost:8080/",
          "height": 265
        },
        "id": "rHA4G0PIOSUw",
        "outputId": "adc06039-1ba6-42e9-bcfe-1b5162121400"
      },
      "execution_count": 100,
      "outputs": [
        {
          "output_type": "display_data",
          "data": {
            "text/plain": [
              "<Figure size 432x288 with 1 Axes>"
            ],
            "image/png": "[encoded data removed]"
          },
          "metadata": {
            "needs_background": "light"
          }
        }
      ]
    }
  ]
}
