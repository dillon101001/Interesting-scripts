{
  "nbformat": 4,
  "nbformat_minor": 0,
  "metadata": {
    "colab": {
      "provenance": []
    },
    "kernelspec": {
      "name": "python3",
      "display_name": "Python 3"
    },
    "language_info": {
      "name": "python"
    }
  },
  "cells": [
    {
      "cell_type": "markdown",
      "source": [
        "The Collatz Conjecture.\n",
        "The rules are as follows.\n",
        "\n",
        "If the number is even, divide it by two.\n",
        "If the number is odd, multiply it by three and add one.\n",
        "\n",
        "For whatever reason, the number will always end up at one.\n"
      ],
      "metadata": {
        "id": "9MKpJ4onDJ-j"
      }
    },
    {
      "cell_type": "code",
      "execution_count": 19,
      "metadata": {
        "colab": {
          "base_uri": "https://localhost:8080/"
        },
        "id": "c0fCiFb6-gQT",
        "outputId": "4589d30e-d57b-4b47-8411-6217d4a469fe"
      },
      "outputs": [
        {
          "output_type": "stream",
          "name": "stdout",
          "text": [
            "Enter a number to test! 4341234\n",
            "4341234, 2170617.0, 6511852.0, 3255926.0, 1627963.0, 4883890.0, 2441945.0, 7325836.0, 3662918.0, 1831459.0, 5494378.0, 2747189.0, 8241568.0, 4120784.0, 2060392.0, 1030196.0, 515098.0, 257549.0, 772648.0, 386324.0, 193162.0, 96581.0, 289744.0, 144872.0, 72436.0, 36218.0, 18109.0, 54328.0, 27164.0, 13582.0, 6791.0, 20374.0, 10187.0, 30562.0, 15281.0, 45844.0, 22922.0, 11461.0, 34384.0, 17192.0, 8596.0, 4298.0, 2149.0, 6448.0, 3224.0, 1612.0, 806.0, 403.0, 1210.0, 605.0, 1816.0, 908.0, 454.0, 227.0, 682.0, 341.0, 1024.0, 512.0, 256.0, 128.0, 64.0, 32.0, 16.0, 8.0, 4.0, 2.0, "
          ]
        }
      ],
      "source": [
        "#input number\n",
        "n = input('Enter a number to test! ')\n",
        "#convert n to integer\n",
        "n=int(n)\n",
        "# in=420\n",
        "# We use modulo 2 to figure out if the number is even.\n",
        "while n!=1:\n",
        "  print(n, end=\", \")\n",
        "  if (n % 2)==1:\n",
        "    n=n*3+1\n",
        "  else:\n",
        "    n=n/2"
      ]
    },
    {
      "cell_type": "markdown",
      "source": [
        "Algorithms like this are a really great way to start playing with data.\n",
        "\n",
        "Here are some examples with matplotlib using the collatz."
      ],
      "metadata": {
        "id": "KT6-vJulGUEN"
      }
    },
    {
      "cell_type": "code",
      "source": [],
      "metadata": {
        "id": "KgV8mD_SGwnG"
      },
      "execution_count": null,
      "outputs": []
    }
  ]
}